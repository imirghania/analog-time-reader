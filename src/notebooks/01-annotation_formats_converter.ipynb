{
 "cells": [
  {
   "cell_type": "markdown",
   "id": "c40ab1d2",
   "metadata": {},
   "source": [
    "### Convert label-studio annotations to YOLO format"
   ]
  },
  {
   "cell_type": "code",
   "execution_count": 1,
   "id": "051c253c",
   "metadata": {},
   "outputs": [],
   "source": [
    "from pathlib import Path"
   ]
  },
  {
   "cell_type": "code",
   "execution_count": 3,
   "id": "b70e4c6a",
   "metadata": {},
   "outputs": [
    {
     "data": {
      "text/plain": [
       "PosixPath('/home/ubuntu_wsl/computer_vision/analog_watch_reader')"
      ]
     },
     "execution_count": 3,
     "metadata": {},
     "output_type": "execute_result"
    }
   ],
   "source": [
    "HOME = Path.cwd().parent.parent\n",
    "HOME"
   ]
  },
  {
   "cell_type": "code",
   "execution_count": 14,
   "id": "7dc71330",
   "metadata": {},
   "outputs": [],
   "source": [
    "import json"
   ]
  },
  {
   "cell_type": "code",
   "execution_count": 6,
   "id": "3f108cd5",
   "metadata": {},
   "outputs": [],
   "source": [
    "annotation_file_name = \"kp_annotations.json\""
   ]
  },
  {
   "cell_type": "code",
   "execution_count": 9,
   "id": "4b410faf",
   "metadata": {},
   "outputs": [
    {
     "data": {
      "text/plain": [
       "{'id': 43570,\n",
       " 'annotations': [{'id': 1451,\n",
       "   'completed_by': 1,\n",
       "   'result': [{'original_width': 640,\n",
       "     'original_height': 600,\n",
       "     'image_rotation': 0,\n",
       "     'value': {'x': 30.65131128234742,\n",
       "      'y': 49.49708822395115,\n",
       "      'width': 0.33333333333333337,\n",
       "      'keypointlabels': ['12_oclock']},\n",
       "     'parentID': 'xlP0_7HXY-',\n",
       "     'id': 'aQ9ZDlTdlf',\n",
       "     'from_name': 'keypoints',\n",
       "     'to_name': 'image',\n",
       "     'type': 'keypointlabels',\n",
       "     'origin': 'manual'},\n",
       "    {'original_width': 640,\n",
       "     'original_height': 600,\n",
       "     'image_rotation': 0,\n",
       "     'value': {'x': 47.93362144082724,\n",
       "      'y': 50.15940430188092,\n",
       "      'width': 0.33333333333333337,\n",
       "      'keypointlabels': ['clock_center']},\n",
       "     'parentID': 'xlP0_7HXY-',\n",
       "     'id': 'RTUU_Pmxc7',\n",
       "     'from_name': 'keypoints',\n",
       "     'to_name': 'image',\n",
       "     'type': 'keypointlabels',\n",
       "     'origin': 'manual'},\n",
       "    {'original_width': 640,\n",
       "     'original_height': 600,\n",
       "     'image_rotation': 0,\n",
       "     'value': {'x': 50.31381984588733,\n",
       "      'y': 59.873373444850806,\n",
       "      'width': 0.33333333333333337,\n",
       "      'keypointlabels': ['hour_hand']},\n",
       "     'parentID': 'xlP0_7HXY-',\n",
       "     'id': '4DykiikfUP',\n",
       "     'from_name': 'keypoints',\n",
       "     'to_name': 'image',\n",
       "     'type': 'keypointlabels',\n",
       "     'origin': 'manual'},\n",
       "    {'original_width': 640,\n",
       "     'original_height': 600,\n",
       "     'image_rotation': 0,\n",
       "     'value': {'x': 62.31829875836432,\n",
       "      'y': 52.25673854865855,\n",
       "      'width': 0.33333333333333337,\n",
       "      'keypointlabels': ['minute_hand']},\n",
       "     'parentID': 'xlP0_7HXY-',\n",
       "     'id': 'u6A7uk45QK',\n",
       "     'from_name': 'keypoints',\n",
       "     'to_name': 'image',\n",
       "     'type': 'keypointlabels',\n",
       "     'origin': 'manual'},\n",
       "    {'original_width': 640,\n",
       "     'original_height': 600,\n",
       "     'image_rotation': 0,\n",
       "     'value': {'x': 25.476966923521143,\n",
       "      'y': 26.095253470433953,\n",
       "      'width': 44.80982214743588,\n",
       "      'height': 47.68675761094277,\n",
       "      'rotation': 0,\n",
       "      'rectanglelabels': ['clock']},\n",
       "     'id': 'xlP0_7HXY-',\n",
       "     'from_name': 'keypoints_bbox',\n",
       "     'to_name': 'image',\n",
       "     'type': 'rectanglelabels',\n",
       "     'origin': 'manual'},\n",
       "    {'original_width': 640,\n",
       "     'original_height': 600,\n",
       "     'image_rotation': 0,\n",
       "     'value': {'x': 48.06576895672799,\n",
       "      'y': 31.712412010274182,\n",
       "      'width': 0.3125,\n",
       "      'keypointlabels': ['3_oclock']},\n",
       "     'parentID': 'xlP0_7HXY-',\n",
       "     'id': 'V6GiQ2xFwg',\n",
       "     'from_name': 'keypoints',\n",
       "     'to_name': 'image',\n",
       "     'type': 'keypointlabels',\n",
       "     'origin': 'manual'},\n",
       "    {'original_width': 640,\n",
       "     'original_height': 600,\n",
       "     'image_rotation': 0,\n",
       "     'value': {'x': 64.64819373987122,\n",
       "      'y': 49.93453729977875,\n",
       "      'width': 0.3125,\n",
       "      'keypointlabels': ['6_oclock']},\n",
       "     'parentID': 'xlP0_7HXY-',\n",
       "     'id': 'gy1um08QC5',\n",
       "     'from_name': 'keypoints',\n",
       "     'to_name': 'image',\n",
       "     'type': 'keypointlabels',\n",
       "     'origin': 'manual'},\n",
       "    {'original_width': 640,\n",
       "     'original_height': 600,\n",
       "     'image_rotation': 0,\n",
       "     'value': {'x': 47.66987631247245,\n",
       "      'y': 67.52730811978815,\n",
       "      'width': 0.3125,\n",
       "      'keypointlabels': ['9_oclock']},\n",
       "     'parentID': 'xlP0_7HXY-',\n",
       "     'id': 'EMMqJprUGT',\n",
       "     'from_name': 'keypoints',\n",
       "     'to_name': 'image',\n",
       "     'type': 'keypointlabels',\n",
       "     'origin': 'manual'}],\n",
       "   'was_cancelled': False,\n",
       "   'ground_truth': False,\n",
       "   'created_at': '2025-06-29T10:46:32.727097Z',\n",
       "   'updated_at': '2025-07-02T23:34:37.439763Z',\n",
       "   'draft_created_at': '2025-06-29T10:45:59.445157Z',\n",
       "   'lead_time': 171.36900000000003,\n",
       "   'prediction': {},\n",
       "   'result_count': 8,\n",
       "   'unique_id': '87214f47-ad92-400d-8905-56a79962c65d',\n",
       "   'import_id': None,\n",
       "   'last_action': None,\n",
       "   'bulk_created': False,\n",
       "   'task': 43570,\n",
       "   'project': 5,\n",
       "   'updated_by': 1,\n",
       "   'parent_prediction': None,\n",
       "   'parent_annotation': None,\n",
       "   'last_created_by': None}],\n",
       " 'drafts': [],\n",
       " 'predictions': [2108],\n",
       " 'data': {'image': '/data/local-files/?d=images/original/0008c01db70bc73e9bdef2514b75c6a2_jpeg.rf.1db421356484dbaa6774c0112eb35ca9.jpg'},\n",
       " 'meta': {},\n",
       " 'created_at': '2025-06-29T10:00:13.390074Z',\n",
       " 'updated_at': '2025-07-02T23:34:37.894446Z',\n",
       " 'inner_id': 1,\n",
       " 'total_annotations': 1,\n",
       " 'cancelled_annotations': 0,\n",
       " 'total_predictions': 1,\n",
       " 'comment_count': 0,\n",
       " 'unresolved_comment_count': 0,\n",
       " 'last_comment_updated_at': None,\n",
       " 'project': 5,\n",
       " 'updated_by': 1,\n",
       " 'comment_authors': []}"
      ]
     },
     "execution_count": 9,
     "metadata": {},
     "output_type": "execute_result"
    }
   ],
   "source": [
    "KP_ANNOTATIONS = (\n",
    "    HOME/f\"annotations/keypoints/labelstudio/{annotation_file_name}\"\n",
    "    )\n",
    "\n",
    "with open(KP_ANNOTATIONS) as f:\n",
    "    data = json.load(f)\n",
    "\n",
    "annotation1 = data[0]\n",
    "\n",
    "annotation1"
   ]
  },
  {
   "cell_type": "code",
   "execution_count": 10,
   "id": "f79f4f20",
   "metadata": {},
   "outputs": [
    {
     "data": {
      "text/plain": [
       "1200"
      ]
     },
     "execution_count": 10,
     "metadata": {},
     "output_type": "execute_result"
    }
   ],
   "source": [
    "len(data)"
   ]
  },
  {
   "cell_type": "code",
   "execution_count": 11,
   "id": "cf208012",
   "metadata": {},
   "outputs": [
    {
     "data": {
      "text/plain": [
       "'/data/local-files/?d=images/original/0008c01db70bc73e9bdef2514b75c6a2_jpeg.rf.1db421356484dbaa6774c0112eb35ca9.jpg'"
      ]
     },
     "execution_count": 11,
     "metadata": {},
     "output_type": "execute_result"
    }
   ],
   "source": [
    "annotation1_img_path = data[0][\"data\"][\"image\"]\n",
    "annotation1_img_path"
   ]
  },
  {
   "cell_type": "code",
   "execution_count": 12,
   "id": "f42f42ba",
   "metadata": {},
   "outputs": [
    {
     "data": {
      "text/plain": [
       "'0008c01db70bc73e9bdef2514b75c6a2_jpeg.rf.1db421356484dbaa6774c0112eb35ca9.jpg'"
      ]
     },
     "execution_count": 12,
     "metadata": {},
     "output_type": "execute_result"
    }
   ],
   "source": [
    "Path(annotation1_img_path).name"
   ]
  },
  {
   "cell_type": "code",
   "execution_count": 13,
   "id": "08564591",
   "metadata": {},
   "outputs": [
    {
     "data": {
      "text/plain": [
       "'0008c01db70bc73e9bdef2514b75c6a2_jpeg.rf.1db421356484dbaa6774c0112eb35ca9'"
      ]
     },
     "execution_count": 13,
     "metadata": {},
     "output_type": "execute_result"
    }
   ],
   "source": [
    "Path(annotation1_img_path).stem"
   ]
  },
  {
   "cell_type": "code",
   "execution_count": 18,
   "id": "0ec84de8",
   "metadata": {},
   "outputs": [
    {
     "name": "stdout",
     "output_type": "stream",
     "text": [
      "['12_oclock']\n",
      "['clock_center']\n",
      "['hour_hand']\n",
      "['minute_hand']\n",
      "BBox\n",
      "['3_oclock']\n",
      "['6_oclock']\n",
      "['9_oclock']\n"
     ]
    }
   ],
   "source": [
    "for an in data[0][\"annotations\"][0][\"result\"]:\n",
    "    print(an[\"value\"].get(\"keypointlabels\", \"BBox\"))"
   ]
  },
  {
   "cell_type": "code",
   "execution_count": 21,
   "id": "c5c3c48c",
   "metadata": {},
   "outputs": [],
   "source": [
    "from typing import Literal"
   ]
  },
  {
   "cell_type": "code",
   "execution_count": 22,
   "id": "e3f75167",
   "metadata": {},
   "outputs": [],
   "source": [
    "def convert_ls_to_yolo_kpt(ls_json_path:Path, \n",
    "                        output_dir:Path, \n",
    "                        class_map:dict, \n",
    "                        dims:Literal[2,3]):\n",
    "    # Ensure output directory exists\n",
    "    # os.makedirs(output_dir, exist_ok=True)\n",
    "    output_dir.mkdir(parents=True, exist_ok=True)\n",
    "\n",
    "    with open(ls_json_path, 'r') as f:\n",
    "        data = json.load(f)\n",
    "\n",
    "    for task in data:\n",
    "        image_path = Path(task['data']['image'])\n",
    "        txt_filename = image_path.stem + '.txt'\n",
    "        txt_path = output_dir / txt_filename\n",
    "\n",
    "        annotations = task.get('annotations', [])\n",
    "        if not annotations:\n",
    "            continue\n",
    "        annotation = annotations[0]  # Assuming one annotation per task\n",
    "\n",
    "        image_width = None\n",
    "        image_height = None\n",
    "        # Collect image dimensions\n",
    "        for res in annotation['result']:\n",
    "            if res['type'] == 'rectanglelabels':\n",
    "                image_width = res['original_width']\n",
    "                image_height = res['original_height']\n",
    "                break\n",
    "        if image_width is None or image_height is None:\n",
    "            continue  # Cannot process without image dimensions\n",
    "\n",
    "        objects = []\n",
    "\n",
    "        # Map rectangle IDs to their data\n",
    "        rectangles = {}\n",
    "        for result in annotation['result']:\n",
    "            if result['type'] == 'rectanglelabels':\n",
    "                bbox = result\n",
    "                bbox_id = bbox['id']\n",
    "                bbox_label = bbox['value']['rectanglelabels'][0]\n",
    "                class_idx = class_map.get(bbox_label)\n",
    "                if class_idx is None:\n",
    "                    continue  # Skip unknown classes\n",
    "\n",
    "                x = bbox['value']['x'] / 100\n",
    "                y = bbox['value']['y'] / 100\n",
    "                width = bbox['value']['width'] / 100\n",
    "                height = bbox['value']['height'] / 100\n",
    "                # Convert from top-left corner to center coordinates\n",
    "                x_center = x + width / 2\n",
    "                y_center = y + height / 2\n",
    "\n",
    "                rectangles[bbox_id] = {\n",
    "                    'class_idx': class_idx,\n",
    "                    'x_center': x_center,\n",
    "                    'y_center': y_center,\n",
    "                    'width': width,\n",
    "                    'height': height,\n",
    "                    'keypoints': []\n",
    "                }\n",
    "\n",
    "        # Collect keypoints associated with each rectangle\n",
    "        for kp_result in annotation['result']:\n",
    "            if kp_result['type'] == 'keypointlabels':\n",
    "                parent_id = kp_result.get('parentID')\n",
    "                if parent_id in rectangles:\n",
    "                    kp_x = kp_result['value']['x'] / 100\n",
    "                    kp_y = kp_result['value']['y'] / 100\n",
    "                    # Optional: Assign visibility (0: not labeled, 1: labeled but not visible, 2: visible)\n",
    "                    visibility = 2  # Assuming keypoints are visible\n",
    "                    if dims == 3:\n",
    "                        rectangles[parent_id]['keypoints'].extend([kp_x, kp_y, visibility])\n",
    "                    else:\n",
    "                        rectangles[parent_id]['keypoints'].extend([kp_x, kp_y])\n",
    "\n",
    "        # Prepare YOLO formatted lines\n",
    "        lines = []\n",
    "        for rect in rectangles.values():\n",
    "            obj = [\n",
    "                rect['class_idx'],\n",
    "                rect['x_center'],\n",
    "                rect['y_center'],\n",
    "                rect['width'],\n",
    "                rect['height']\n",
    "            ] + rect['keypoints']\n",
    "            line = ' '.join(map(str, obj))\n",
    "            lines.append(line)\n",
    "\n",
    "        # Write to YOLO format file\n",
    "        with open(txt_path, 'w') as f:\n",
    "            for line in lines:\n",
    "                f.write(line + '\\n')"
   ]
  },
  {
   "cell_type": "code",
   "execution_count": 24,
   "id": "ae083742",
   "metadata": {},
   "outputs": [
    {
     "data": {
      "text/plain": [
       "True"
      ]
     },
     "execution_count": 24,
     "metadata": {},
     "output_type": "execute_result"
    }
   ],
   "source": [
    "output_dir = HOME/\"annotations/keypoints/yolo\"\n",
    "output_dir.exists()"
   ]
  },
  {
   "cell_type": "code",
   "execution_count": 25,
   "id": "3aa6afa6",
   "metadata": {},
   "outputs": [],
   "source": [
    "import shutil"
   ]
  },
  {
   "cell_type": "code",
   "execution_count": 26,
   "id": "74803cbe",
   "metadata": {},
   "outputs": [],
   "source": [
    "if any(output_dir.iterdir()):\n",
    "    shutil.rmtree(output_dir)\n",
    "    output_dir.mkdir(parents=True)"
   ]
  },
  {
   "cell_type": "code",
   "execution_count": 27,
   "id": "d1235c05",
   "metadata": {},
   "outputs": [],
   "source": [
    "class_map = {\n",
    "    'clock': 0\n",
    "    }  # Map your labels to class indices"
   ]
  },
  {
   "cell_type": "code",
   "execution_count": 28,
   "id": "6786df85",
   "metadata": {},
   "outputs": [],
   "source": [
    "convert_ls_to_yolo_kpt(KP_ANNOTATIONS, output_dir, class_map, dims=3)"
   ]
  },
  {
   "cell_type": "code",
   "execution_count": 29,
   "id": "8de53135",
   "metadata": {},
   "outputs": [
    {
     "data": {
      "text/plain": [
       "1200"
      ]
     },
     "execution_count": 29,
     "metadata": {},
     "output_type": "execute_result"
    }
   ],
   "source": [
    "len(list(output_dir.glob(\"*.txt\")))"
   ]
  },
  {
   "cell_type": "code",
   "execution_count": null,
   "id": "e0fdc2a1",
   "metadata": {},
   "outputs": [],
   "source": []
  }
 ],
 "metadata": {
  "kernelspec": {
   "display_name": ".venv",
   "language": "python",
   "name": "python3"
  },
  "language_info": {
   "codemirror_mode": {
    "name": "ipython",
    "version": 3
   },
   "file_extension": ".py",
   "mimetype": "text/x-python",
   "name": "python",
   "nbconvert_exporter": "python",
   "pygments_lexer": "ipython3",
   "version": "3.12.7"
  }
 },
 "nbformat": 4,
 "nbformat_minor": 5
}
