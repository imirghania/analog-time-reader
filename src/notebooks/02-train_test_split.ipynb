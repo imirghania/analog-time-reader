{
 "cells": [
  {
   "cell_type": "markdown",
   "id": "05c04224",
   "metadata": {},
   "source": [
    "# Generate YOLO dataset"
   ]
  },
  {
   "cell_type": "code",
   "execution_count": 1,
   "id": "bc91da7b",
   "metadata": {},
   "outputs": [],
   "source": [
    "from pathlib import Path"
   ]
  },
  {
   "cell_type": "code",
   "execution_count": 2,
   "id": "89e3d18f",
   "metadata": {},
   "outputs": [
    {
     "data": {
      "text/plain": [
       "PosixPath('/home/ubuntu_wsl/computer_vision/analog_watch_reader')"
      ]
     },
     "execution_count": 2,
     "metadata": {},
     "output_type": "execute_result"
    }
   ],
   "source": [
    "HOME = Path.cwd().parent.parent\n",
    "HOME"
   ]
  },
  {
   "cell_type": "code",
   "execution_count": 3,
   "id": "f04df0e7",
   "metadata": {},
   "outputs": [
    {
     "data": {
      "text/plain": [
       "True"
      ]
     },
     "execution_count": 3,
     "metadata": {},
     "output_type": "execute_result"
    }
   ],
   "source": [
    "annotations_dir = HOME/\"annotations/keypoints/yolo\"\n",
    "annotations_dir.exists()"
   ]
  },
  {
   "cell_type": "code",
   "execution_count": 4,
   "id": "6fc5ea90",
   "metadata": {},
   "outputs": [
    {
     "data": {
      "text/plain": [
       "[PosixPath('/home/ubuntu_wsl/computer_vision/analog_watch_reader/annotations/keypoints/yolo/074eddc202491b98ef41eb4b098561af_jpeg.rf.80951684464b2c2733fd7577e30a6f1f.txt'),\n",
       " PosixPath('/home/ubuntu_wsl/computer_vision/analog_watch_reader/annotations/keypoints/yolo/2eafac15546e9c5cd8538695b90570b4_jpeg.rf.6483e1264459d9432fb5aae035bb25b8.txt'),\n",
       " PosixPath('/home/ubuntu_wsl/computer_vision/analog_watch_reader/annotations/keypoints/yolo/0b4fe808d14279d05af251ae3cc97ece_jpg.rf.71c1d8794ed89ff05cd022159ee57d3b.txt'),\n",
       " PosixPath('/home/ubuntu_wsl/computer_vision/analog_watch_reader/annotations/keypoints/yolo/269e57cbfd1ab558bb5c293f341df292_jpeg.rf.7a60b73403ec7eae0dba92b41121fa49.txt'),\n",
       " PosixPath('/home/ubuntu_wsl/computer_vision/analog_watch_reader/annotations/keypoints/yolo/0dfd35bfcf3c5d0cb81e30e5a982a1a2_jpeg.rf.ca05e80a562fbb51d64220730e531352.txt')]"
      ]
     },
     "execution_count": 4,
     "metadata": {},
     "output_type": "execute_result"
    }
   ],
   "source": [
    "paths = list(annotations_dir.iterdir())\n",
    "paths[:5]"
   ]
  },
  {
   "cell_type": "code",
   "execution_count": 5,
   "id": "18f7ea2c",
   "metadata": {},
   "outputs": [
    {
     "data": {
      "text/plain": [
       "1200"
      ]
     },
     "execution_count": 5,
     "metadata": {},
     "output_type": "execute_result"
    }
   ],
   "source": [
    "len(paths)"
   ]
  },
  {
   "cell_type": "code",
   "execution_count": 6,
   "id": "ff76b890",
   "metadata": {},
   "outputs": [],
   "source": [
    "from random import shuffle, sample"
   ]
  },
  {
   "cell_type": "code",
   "execution_count": 7,
   "id": "1bdef8f3",
   "metadata": {},
   "outputs": [],
   "source": [
    "shuffled_annotation_paths = paths.copy()\n",
    "shuffle(shuffled_annotation_paths)"
   ]
  },
  {
   "cell_type": "code",
   "execution_count": 8,
   "id": "138e1a85",
   "metadata": {},
   "outputs": [],
   "source": [
    "original_dataset_dir = HOME/\"datasets/original\""
   ]
  },
  {
   "cell_type": "code",
   "execution_count": 9,
   "id": "fb01348a",
   "metadata": {},
   "outputs": [
    {
     "data": {
      "text/plain": [
       "[PosixPath('/home/ubuntu_wsl/computer_vision/analog_watch_reader/datasets/original/51bd4725d65b0175b0b4447f4b8b630d_jpeg.rf.cf17e4d4390813c1cec05df0572ffe49.jpg'),\n",
       " PosixPath('/home/ubuntu_wsl/computer_vision/analog_watch_reader/datasets/original/9387b9d621e5627c0794057d236d4b25_jpeg.rf.e776501d01c4319111a4d596adea40d0.jpg'),\n",
       " PosixPath('/home/ubuntu_wsl/computer_vision/analog_watch_reader/datasets/original/24899b8291ff742a2f397962fbbfd16d_jpeg.rf.1dfedd93fbf7f93a7ec5e736c3eaabcf.jpg'),\n",
       " PosixPath('/home/ubuntu_wsl/computer_vision/analog_watch_reader/datasets/original/61073e3fd3eb7b1d90161e84e13fd112_jpeg.rf.f04b5d8cf09d0bac7262f8a1037b9495.jpg'),\n",
       " PosixPath('/home/ubuntu_wsl/computer_vision/analog_watch_reader/datasets/original/4307aa316c050e1fd9cee80044ce2305_jpeg.rf.f0d9e00bca600044d840f1e3a571177c.jpg')]"
      ]
     },
     "execution_count": 9,
     "metadata": {},
     "output_type": "execute_result"
    }
   ],
   "source": [
    "list(original_dataset_dir.iterdir())[:5]"
   ]
  },
  {
   "cell_type": "code",
   "execution_count": 10,
   "id": "177ecf5c",
   "metadata": {},
   "outputs": [
    {
     "data": {
      "text/plain": [
       "5953"
      ]
     },
     "execution_count": 10,
     "metadata": {},
     "output_type": "execute_result"
    }
   ],
   "source": [
    "annotated_image_names = [p.stem for p in paths]\n",
    "unseen_image_names = [\n",
    "    img_path for img_path in list(original_dataset_dir.iterdir())\n",
    "    if img_path.stem not in annotated_image_names\n",
    "    ]\n",
    "len(unseen_image_names)"
   ]
  },
  {
   "cell_type": "code",
   "execution_count": 11,
   "id": "5cf96ac9",
   "metadata": {},
   "outputs": [
    {
     "data": {
      "text/plain": [
       "[PosixPath('/home/ubuntu_wsl/computer_vision/analog_watch_reader/datasets/original/51bd4725d65b0175b0b4447f4b8b630d_jpeg.rf.cf17e4d4390813c1cec05df0572ffe49.jpg'),\n",
       " PosixPath('/home/ubuntu_wsl/computer_vision/analog_watch_reader/datasets/original/9387b9d621e5627c0794057d236d4b25_jpeg.rf.e776501d01c4319111a4d596adea40d0.jpg'),\n",
       " PosixPath('/home/ubuntu_wsl/computer_vision/analog_watch_reader/datasets/original/61073e3fd3eb7b1d90161e84e13fd112_jpeg.rf.f04b5d8cf09d0bac7262f8a1037b9495.jpg')]"
      ]
     },
     "execution_count": 11,
     "metadata": {},
     "output_type": "execute_result"
    }
   ],
   "source": [
    "unseen_image_names[:3]"
   ]
  },
  {
   "cell_type": "code",
   "execution_count": 12,
   "id": "158fdebc",
   "metadata": {},
   "outputs": [],
   "source": [
    "TRAINING_IMAGES_NUM = 1000"
   ]
  },
  {
   "cell_type": "code",
   "execution_count": 13,
   "id": "1766bf33",
   "metadata": {},
   "outputs": [],
   "source": [
    "annotation_paths_train = shuffled_annotation_paths[:TRAINING_IMAGES_NUM]\n",
    "annotation_paths_val = shuffled_annotation_paths[TRAINING_IMAGES_NUM:]\n",
    "image_paths_test = sample(unseen_image_names, 100)"
   ]
  },
  {
   "cell_type": "code",
   "execution_count": 14,
   "id": "5e20ed61",
   "metadata": {},
   "outputs": [
    {
     "data": {
      "text/plain": [
       "{'.jpg'}"
      ]
     },
     "execution_count": 14,
     "metadata": {},
     "output_type": "execute_result"
    }
   ],
   "source": [
    "set([file_path.suffix for file_path in original_dataset_dir.iterdir()])"
   ]
  },
  {
   "cell_type": "code",
   "execution_count": 15,
   "id": "670dc36a",
   "metadata": {},
   "outputs": [],
   "source": [
    "import shutil"
   ]
  },
  {
   "cell_type": "code",
   "execution_count": 16,
   "id": "0c9d5cce",
   "metadata": {},
   "outputs": [],
   "source": [
    "def reset_yolo_dataset_structure(dataset_dir: Path):\n",
    "    \"\"\"\n",
    "    Clears a YOLO dataset directory and resets it to the default empty structure.\n",
    "\n",
    "    Args:\n",
    "        dataset_dir (Path): Path to the root dataset directory.\n",
    "    \"\"\"\n",
    "    # Define the expected structure\n",
    "    structure = [\n",
    "        dataset_dir / 'train' / 'images',\n",
    "        dataset_dir / 'train' / 'labels',\n",
    "        dataset_dir / 'val' / 'images',\n",
    "        dataset_dir / 'val' / 'labels',\n",
    "        dataset_dir / 'test' / 'images',\n",
    "    ]\n",
    "\n",
    "    # Remove the dataset directory if it exists\n",
    "    if dataset_dir.exists() and dataset_dir.is_dir():\n",
    "        shutil.rmtree(dataset_dir)\n",
    "\n",
    "    # Recreate the directory structure\n",
    "    for path in structure:\n",
    "        path.mkdir(parents=True, exist_ok=True)\n",
    "\n",
    "    print(f\"YOLO dataset directory reset at: {dataset_dir}\")"
   ]
  },
  {
   "cell_type": "code",
   "execution_count": 17,
   "id": "a90e0a9c",
   "metadata": {},
   "outputs": [
    {
     "name": "stdout",
     "output_type": "stream",
     "text": [
      "YOLO dataset directory reset at: /home/ubuntu_wsl/computer_vision/analog_watch_reader/datasets/yolo\n"
     ]
    }
   ],
   "source": [
    "dataset_path = HOME/\"datasets/yolo\"\n",
    "reset_yolo_dataset_structure(dataset_path)"
   ]
  },
  {
   "cell_type": "code",
   "execution_count": 18,
   "id": "249b3f23",
   "metadata": {},
   "outputs": [],
   "source": [
    "annotation_groups_map = {\n",
    "    \"train\": annotation_paths_train,\n",
    "    \"val\": annotation_paths_val,\n",
    "    \"test\": image_paths_test,\n",
    "}"
   ]
  },
  {
   "cell_type": "code",
   "execution_count": 19,
   "id": "dc01095b",
   "metadata": {},
   "outputs": [],
   "source": [
    "for group, paths in annotation_groups_map.items():\n",
    "    image_group_path = HOME/f\"datasets/yolo/{group}/images\"\n",
    "    label_group_path = HOME/f\"datasets/yolo/{group}/labels\"\n",
    "    for path in paths:\n",
    "        if group.lower() == \"test\":\n",
    "            shutil.copy2(path, image_group_path)\n",
    "        else:\n",
    "            image_path = (\n",
    "                HOME/f\"datasets/original/{path.stem}.jpg\"\n",
    "                )\n",
    "            shutil.copy2(image_path, image_group_path)\n",
    "            shutil.copy2(path, label_group_path)"
   ]
  },
  {
   "cell_type": "code",
   "execution_count": 21,
   "id": "404e6be6",
   "metadata": {},
   "outputs": [],
   "source": [
    "import os"
   ]
  },
  {
   "cell_type": "code",
   "execution_count": 22,
   "id": "012fb4c8",
   "metadata": {},
   "outputs": [
    {
     "name": "stdout",
     "output_type": "stream",
     "text": [
      "[ROOT]  /home/ubuntu_wsl/computer_vision/analog_watch_reader/datasets/yolo/train\n",
      "[IMAGES]  1000\n",
      "[LABELS]  1000\n",
      "[ROOT]  /home/ubuntu_wsl/computer_vision/analog_watch_reader/datasets/yolo/val\n",
      "[IMAGES]  200\n",
      "[LABELS]  200\n",
      "[ROOT]  /home/ubuntu_wsl/computer_vision/analog_watch_reader/datasets/yolo/test\n",
      "[IMAGES]  100\n",
      "[LABELS]  0\n"
     ]
    }
   ],
   "source": [
    "for root, dirnames, filenames in os.walk(dataset_path):\n",
    "    # print(\"[ROOT] \", root)\n",
    "    # print(\"[DIRS] \", dirnames)\n",
    "    # print(\"[FILES] \", filenames[:5])\n",
    "    if \"images\" in dirnames:\n",
    "        print(\"[ROOT] \", root)\n",
    "        root_path = Path(root)\n",
    "        images_num = sum(1 for _ in (root_path/\"images\").iterdir())\n",
    "        labels_num = (\n",
    "            sum(1 for _ in (Path(root)/\"labels\").iterdir())\n",
    "            if root_path.stem != \"test\"\n",
    "            else 0\n",
    "        )\n",
    "        print(\"[IMAGES] \", images_num)\n",
    "        print(\"[LABELS] \", labels_num)"
   ]
  }
 ],
 "metadata": {
  "kernelspec": {
   "display_name": ".venv",
   "language": "python",
   "name": "python3"
  },
  "language_info": {
   "codemirror_mode": {
    "name": "ipython",
    "version": 3
   },
   "file_extension": ".py",
   "mimetype": "text/x-python",
   "name": "python",
   "nbconvert_exporter": "python",
   "pygments_lexer": "ipython3",
   "version": "3.12.7"
  }
 },
 "nbformat": 4,
 "nbformat_minor": 5
}
